{
 "cells": [
  {
   "cell_type": "code",
   "execution_count": 58,
   "metadata": {},
   "outputs": [],
   "source": [
    "import pandas as pd\n",
    "import numpy as np\n",
    "import matplotlib"
   ]
  },
  {
   "cell_type": "code",
   "execution_count": 90,
   "metadata": {},
   "outputs": [],
   "source": [
    "n = 500 # number of trials\n",
    "mu, sigma = 0, 2  # mean and standard deviation\n",
    "s = np.reshape(np.random.normal(mu, sigma, n), (n,1))  # create normal distribution in an ndarray\n",
    "e = np.exp(s)\n",
    "#print('s is ', s)\n",
    "#print(np.shape(s))\n",
    "#print('e is ', e)\n",
    "#print(np.shape(e))\n",
    "\n",
    "cc = np.concatenate((s, e), axis=1)\n",
    "#print('cc is ', cc)\n",
    "#print(np.shape(cc))\n",
    "\n",
    "# It took quite a while to figure out how to do this!\n",
    "# I settled on the np.concatenate command above to pairwise combine the exponent and the exponentation value together \n",
    "mydata = pd.DataFrame(data=cc, columns=['normal','lognormal'])\n"
   ]
  },
  {
   "cell_type": "code",
   "execution_count": 91,
   "metadata": {},
   "outputs": [
    {
     "data": {
      "text/html": [
       "<div>\n",
       "<style scoped>\n",
       "    .dataframe tbody tr th:only-of-type {\n",
       "        vertical-align: middle;\n",
       "    }\n",
       "\n",
       "    .dataframe tbody tr th {\n",
       "        vertical-align: top;\n",
       "    }\n",
       "\n",
       "    .dataframe thead th {\n",
       "        text-align: right;\n",
       "    }\n",
       "</style>\n",
       "<table border=\"1\" class=\"dataframe\">\n",
       "  <thead>\n",
       "    <tr style=\"text-align: right;\">\n",
       "      <th></th>\n",
       "      <th>normal</th>\n",
       "      <th>lognormal</th>\n",
       "    </tr>\n",
       "  </thead>\n",
       "  <tbody>\n",
       "    <tr>\n",
       "      <th>count</th>\n",
       "      <td>500.000000</td>\n",
       "      <td>500.000000</td>\n",
       "    </tr>\n",
       "    <tr>\n",
       "      <th>mean</th>\n",
       "      <td>0.123136</td>\n",
       "      <td>8.526486</td>\n",
       "    </tr>\n",
       "    <tr>\n",
       "      <th>std</th>\n",
       "      <td>2.007858</td>\n",
       "      <td>29.784703</td>\n",
       "    </tr>\n",
       "    <tr>\n",
       "      <th>min</th>\n",
       "      <td>-5.477758</td>\n",
       "      <td>0.004179</td>\n",
       "    </tr>\n",
       "    <tr>\n",
       "      <th>25%</th>\n",
       "      <td>-1.192129</td>\n",
       "      <td>0.303575</td>\n",
       "    </tr>\n",
       "    <tr>\n",
       "      <th>50%</th>\n",
       "      <td>-0.065379</td>\n",
       "      <td>0.936716</td>\n",
       "    </tr>\n",
       "    <tr>\n",
       "      <th>75%</th>\n",
       "      <td>1.550001</td>\n",
       "      <td>4.711476</td>\n",
       "    </tr>\n",
       "    <tr>\n",
       "      <th>max</th>\n",
       "      <td>5.717389</td>\n",
       "      <td>304.109869</td>\n",
       "    </tr>\n",
       "  </tbody>\n",
       "</table>\n",
       "</div>"
      ],
      "text/plain": [
       "           normal   lognormal\n",
       "count  500.000000  500.000000\n",
       "mean     0.123136    8.526486\n",
       "std      2.007858   29.784703\n",
       "min     -5.477758    0.004179\n",
       "25%     -1.192129    0.303575\n",
       "50%     -0.065379    0.936716\n",
       "75%      1.550001    4.711476\n",
       "max      5.717389  304.109869"
      ]
     },
     "execution_count": 91,
     "metadata": {},
     "output_type": "execute_result"
    }
   ],
   "source": [
    "# Get mean, standard deviation, quartiles, min, and max for both series\n",
    "mydata.describe()"
   ]
  },
  {
   "cell_type": "code",
   "execution_count": 92,
   "metadata": {},
   "outputs": [
    {
     "data": {
      "image/png": "[encoded data removed]",
      "text/plain": [
       "<Figure size 432x288 with 1 Axes>"
      ]
     },
     "metadata": {
      "needs_background": "light"
     },
     "output_type": "display_data"
    }
   ],
   "source": [
    "normalHist = mydata.hist(column='normal', bins=20)"
   ]
  },
  {
   "cell_type": "code",
   "execution_count": 93,
   "metadata": {},
   "outputs": [
    {
     "data": {
      "image/png": "[encoded data removed]",
      "text/plain": [
       "<Figure size 432x288 with 1 Axes>"
      ]
     },
     "metadata": {
      "needs_background": "light"
     },
     "output_type": "display_data"
    }
   ],
   "source": [
    "lognormalHist = mydata.hist(column='lognormal', bins=100)"
   ]
  },
  {
   "cell_type": "markdown",
   "metadata": {},
   "source": [
    "## Now that we have some data, lets put it to use!\n",
    "To learn a lesson about the danger of fat tailed distributions, we'll assume that each row of the data is the yearly outcome of an investment.  We'll flip the direction and shift the data so that the vast majority of years there is a small gain; but very occasionally there will be a big loss.  How many years can an investment like this survive?"
   ]
  },
  {
   "cell_type": "code",
   "execution_count": 97,
   "metadata": {},
   "outputs": [
    {
     "name": "stdout",
     "output_type": "stream",
     "text": [
      "Year 1 we have 117.99741042035653\n",
      "Year 2 we have 137.9096481823931\n",
      "Year 3 we have 156.75279083040078\n",
      "Year 4 we have 155.2400750289997\n",
      "Year 5 we have 111.17358056498466\n",
      "Year 6 we have 130.66635189651214\n",
      "Year 7 we have 150.64287344842973\n",
      "Busted in year 8\n"
     ]
    }
   ],
   "source": [
    "year, account = 0, 100  #initial value of investment\n",
    "for row in mydata.itertuples(index=False):\n",
    "    year = year + 1\n",
    "    account = account + ( -1 * row.lognormal + 20)\n",
    "    if (account < 0):\n",
    "        print(f'Busted in year {year}')\n",
    "        break\n",
    "    else:\n",
    "        print(f'Year {year} we have {account}')\n"
   ]
  },
  {
   "cell_type": "markdown",
   "metadata": {},
   "source": [
    "## long-term survival greatly depends on the initial amount and the offset\n",
    "Eventually, a REALLY BAD year comes along.  If you were doing OK when it hit, you _might_ survive.  But if that came early, you had no chance."
   ]
  }
 ],
 "metadata": {
  "kernelspec": {
   "display_name": "Python 3",
   "language": "python",
   "name": "python3"
  },
  "language_info": {
   "codemirror_mode": {
    "name": "ipython",
    "version": 3
   },
   "file_extension": ".py",
   "mimetype": "text/x-python",
   "name": "python",
   "nbconvert_exporter": "python",
   "pygments_lexer": "ipython3",
   "version": "3.8.2"
  }
 },
 "nbformat": 4,
 "nbformat_minor": 4
}
